{
 "cells": [
  {
   "cell_type": "markdown",
   "metadata": {},
   "source": [
    "# Lets_upgrade assignment day2"
   ]
  },
  {
   "cell_type": "markdown",
   "metadata": {},
   "source": [
    "Questions 1:Given the following jumbled word, OBANWRI guess the correct English word.\n",
    "A. RANIBOW B. RAINBOW C. BOWRANI D. ROBWANI"
   ]
  },
  {
   "cell_type": "code",
   "execution_count": 1,
   "metadata": {},
   "outputs": [
    {
     "name": "stdout",
     "output_type": "stream",
     "text": [
      "guess the correct English word:OBANWRI \n",
      "['RANIBOW', 'RAINBOW', 'BOWRANI', 'ROBWANI']\n",
      "ENTER ANSWER FROME THE ABOVE LIST : RAINBOW\n",
      "CORRECT ANSWER !!\n"
     ]
    }
   ],
   "source": [
    "print(\"guess the correct English word:OBANWRI \")\n",
    "words= [\"RANIBOW\", \"RAINBOW\", \"BOWRANI\", \"ROBWANI\"]\n",
    "print(words)\n",
    "i= input(\"ENTER ANSWER FROME THE ABOVE LIST : \")\n",
    "if i.upper()==\"RAINBOW\":\n",
    "    print(\"CORRECT ANSWER !!\")\n",
    "else:\n",
    "    print(\"INCORRECT ANSWER.\")"
   ]
  },
  {
   "cell_type": "markdown",
   "metadata": {},
   "source": [
    "QUESTIONS-2: Write a program which prints “LETS UPGRADE”."
   ]
  },
  {
   "cell_type": "code",
   "execution_count": 2,
   "metadata": {},
   "outputs": [
    {
     "name": "stdout",
     "output_type": "stream",
     "text": [
      "LETS UPGRADE\n"
     ]
    }
   ],
   "source": [
    "print('LETS UPGRADE')"
   ]
  },
  {
   "cell_type": "markdown",
   "metadata": {},
   "source": [
    "QUESTION-3 : Write a program that takes cost price and selling price as input and displays whether the transaction is a Profit or a Loss or Neither."
   ]
  },
  {
   "cell_type": "code",
   "execution_count": 3,
   "metadata": {},
   "outputs": [
    {
     "name": "stdout",
     "output_type": "stream",
     "text": [
      "enter the cp:30\n",
      "enter the sp:50\n",
      "profit\n"
     ]
    }
   ],
   "source": [
    "cp=input('enter the cp:')\n",
    "sp=input('enter the sp:')\n",
    "if sp>cp:\n",
    "    print('profit')\n",
    "    \n",
    "elif cp>sp:\n",
    "    print('loss') \n",
    "else:\n",
    "    print('Neither profit nor loss')"
   ]
  },
  {
   "cell_type": "markdown",
   "metadata": {},
   "source": [
    "QUESTION-4 : Write a program that takes an amount in Indian Rupees as input. You need to find its equivalent in Euro and display it. Assume 1 Euro equals Rs. 80."
   ]
  },
  {
   "cell_type": "code",
   "execution_count": 5,
   "metadata": {},
   "outputs": [
    {
     "name": "stdout",
     "output_type": "stream",
     "text": [
      "enter ammount in Indian Repees:80\n",
      "Ammount in Euro: 1\n"
     ]
    }
   ],
   "source": [
    "rupees=int(input('enter ammount in Indian Repees:'))\n",
    "per_euro=80\n",
    "amt_euro=int(rupees/per_euro)\n",
    "print('Ammount in Euro:', amt_euro)"
   ]
  },
  {
   "cell_type": "code",
   "execution_count": null,
   "metadata": {},
   "outputs": [],
   "source": []
  },
  {
   "cell_type": "code",
   "execution_count": null,
   "metadata": {},
   "outputs": [],
   "source": []
  }
 ],
 "metadata": {
  "kernelspec": {
   "display_name": "Python 3",
   "language": "python",
   "name": "python3"
  },
  "language_info": {
   "codemirror_mode": {
    "name": "ipython",
    "version": 3
   },
   "file_extension": ".py",
   "mimetype": "text/x-python",
   "name": "python",
   "nbconvert_exporter": "python",
   "pygments_lexer": "ipython3",
   "version": "3.8.3"
  }
 },
 "nbformat": 4,
 "nbformat_minor": 4
}
