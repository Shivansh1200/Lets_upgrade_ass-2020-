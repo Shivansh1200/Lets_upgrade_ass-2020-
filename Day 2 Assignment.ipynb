{
 "cells": [
  {
   "cell_type": "markdown",
   "metadata": {},
   "source": [
    "# Lets_upgrade_Assignment-1 <2020>"
   ]
  },
  {
   "cell_type": "markdown",
   "metadata": {},
   "source": [
    "'''Questions 1:\n",
    "Create an empty list. Accept #10 numbers from the user and append to \n",
    "the list if it is an even number.'''"
   ]
  },
  {
   "cell_type": "code",
   "execution_count": null,
   "metadata": {},
   "outputs": [],
   "source": [
    "number_list=[]\n",
    "for x in range(1,10):\n",
    "    x=int(input('take 10 numbers from me as: '))\n",
    "    if x%2==0:\n",
    "        number_list.append(x)\n",
    "        print(number_list)"
   ]
  },
  {
   "cell_type": "markdown",
   "metadata": {},
   "source": [
    "'''Questions 2:Create a notebook on LIST COMPREHENSION. This exercise is to put you in a Self learning mode'''"
   ]
  },
  {
   "cell_type": "code",
   "execution_count": null,
   "metadata": {},
   "outputs": [],
   "source": [
    "lst = [1, 2, 3, 4, 5, 6, 7, 8]\n",
    "even_lst = [i for i in lst if i%2==0 ]\n",
    "print(even_lst)"
   ]
  },
  {
   "cell_type": "markdown",
   "metadata": {},
   "source": [
    "'''Questions 3:\n",
    "You have seen in the videos how powerful dictionary data structure is.\n",
    "In this assignment, given a number n, you have to write a program that generates a dictionary d which\n",
    "contains (i, i*i), where i is from 1 to n (both included).\n",
    "Then you have to just print this dictionary d.\n",
    "Example:\n",
    "Input: 4\n",
    "will give output as\n",
    "{1: 1, 2: 4, 3: 9, 4: 16}\n",
    "Input Format:\n",
    "Take the number n in a single line.\n",
    "Output Format:\n",
    "Print the dictionary d in a single line.'''\n"
   ]
  },
  {
   "cell_type": "code",
   "execution_count": null,
   "metadata": {},
   "outputs": [],
   "source": [
    "d = {}\n",
    "n = int(input(\"enter number\"))\n",
    "for i in range(1,n+1):\n",
    "  d[i] = i*i\n",
    "print(d)"
   ]
  },
  {
   "cell_type": "markdown",
   "metadata": {},
   "source": [
    "'''Questions 4:\n",
    "There is a robot which wants to go the charging point to charge itself.\n",
    "The robot moves in a 2-D plane from the original point (0,0). The robot can\n",
    "move toward UP, DOWN, LEFT and RIGHT with given steps.\n",
    "The trace of robot movement is shown as the following:\n",
    "UP 5\n",
    "DOWN 3\n",
    "LEFT 3\n",
    "RIGHT 2\n",
    "Then, the output of the program should be:\n",
    "2\n",
    "The numbers after the direction are steps.\n",
    "Write a program to compute the distance between the current position after\n",
    "a sequence of movement and original point. If the distance is a float, then\n",
    "just print the nearest integer (use round() function for that and then convert\n",
    "it into an integer).\n",
    "Input Format:\n",
    "The first line of the input contains a number n which implies the number of\n",
    "directions to be given.\n",
    "The next n lines contain the direction and the step separated by a space.\n",
    "Output Format:\n",
    "Print the distance from the original position to the current position.\n",
    "Example:\n",
    "Input:\n",
    "4\n",
    "UP 5\n",
    "DOWN 3\n",
    "LEFT 3\n",
    "RIGHT 2\n",
    "Output:\n",
    "2'''"
   ]
  },
  {
   "cell_type": "code",
   "execution_count": null,
   "metadata": {},
   "outputs": [],
   "source": [
    "pos = {\"x\":0,\"y\":0}\n",
    "n = int(input())\n",
    "for i in range (n):\n",
    "    move =  input().split(\" \")          \n",
    "    if move[0].lower() == \"up\":\n",
    "        pos[\"y\"] += int(move[1])        \n",
    "    elif move[0].lower() == \"down\":\n",
    "        pos[\"y\"] -= int(move[1])   \n",
    "    elif move[0].lower() == \"left\":\n",
    "        pos[\"x\"] -= int(move[1])    \n",
    "    elif move[0].lower() == \"right\":\n",
    "        pos[\"x\"] += int(move[1])\n",
    "print(int(round((pos[\"x\"]**2 + pos[\"y\"]**2)**0.5)))"
   ]
  }
 ],
 "metadata": {
  "kernelspec": {
   "display_name": "Python 3",
   "language": "python",
   "name": "python3"
  },
  "language_info": {
   "codemirror_mode": {
    "name": "ipython",
    "version": 3
   },
   "file_extension": ".py",
   "mimetype": "text/x-python",
   "name": "python",
   "nbconvert_exporter": "python",
   "pygments_lexer": "ipython3",
   "version": "3.8.3"
  }
 },
 "nbformat": 4,
 "nbformat_minor": 4
}
